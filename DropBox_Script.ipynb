{
  "cells": [
    {
      "cell_type": "code",
      "source": [
        "!pip install playwright\n",
        "!playwright install\n",
        "!pip install getindianname"
      ],
      "metadata": {
        "id": "c4pE7_OaKNlj"
      },
      "execution_count": null,
      "outputs": []
    },
    {
      "cell_type": "code",
      "source": [
        "import asyncio\n",
        "from concurrent.futures import ThreadPoolExecutor\n",
        "import getindianname as name\n",
        "\n",
        "# Download your Python script from Dropbox\n",
        "!wget -O script.py \"https://www.dropbox.com/scl/fi/lywhky27dbkr9a5kk7a4x/FunHindi.py?rlkey=2mssb9t3xufda714hu6loc2ep&dl=0\"\n",
        "\n",
        "import sys\n",
        "sys.path.append('FunHindi')\n",
        "\n",
        "# Import your module\n",
        "from script import start  # Make sure you have the correct import statement here\n",
        "\n",
        "async def main():\n",
        "    global running\n",
        "    number = int(input(\"Enter the number of Users: \"))\n",
        "    meetingcode = input(\"Enter meeting code (No Space): \")\n",
        "    passcode = input(\"Enter Password (No Space): \")\n",
        "\n",
        "    sec = 90\n",
        "    wait_time = sec * 60\n",
        "\n",
        "    with ThreadPoolExecutor(max_workers=number) as executor:\n",
        "        loop = asyncio.get_running_loop()\n",
        "        tasks = []\n",
        "        for i in range(number):\n",
        "            try:\n",
        "                # Generate a random Indian name using getindianname\n",
        "                user = name.randname()\n",
        "            except IndexError:\n",
        "                break\n",
        "            task = loop.create_task(start(f'[Thread{i}]', user, wait_time, meetingcode, passcode))\n",
        "            tasks.append(task)\n",
        "        try:\n",
        "            await asyncio.gather(*tasks)\n",
        "        except KeyboardInterrupt:\n",
        "            running = False\n",
        "            # Wait for tasks to complete\n",
        "            await asyncio.gather(*tasks, return_exceptions=True)\n",
        "\n",
        "if __name__ == '__main__':\n",
        "    try:\n",
        "        asyncio.run(main())\n",
        "    except KeyboardInterrupt:\n",
        "        pass\n"
      ],
      "metadata": {
        "id": "sD65HYIMKMPw"
      },
      "execution_count": null,
      "outputs": []
    }
  ],
  "metadata": {
    "colab": {
      "provenance": []
    },
    "kernelspec": {
      "display_name": "Python 3",
      "name": "python3"
    }
  },
  "nbformat": 4,
  "nbformat_minor": 0
}